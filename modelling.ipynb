{
 "cells": [
  {
   "cell_type": "code",
   "execution_count": 1,
   "id": "664de59a",
   "metadata": {},
   "outputs": [],
   "source": [
    "import pandas as pd\n",
    "import numpy as np"
   ]
  },
  {
   "cell_type": "code",
   "execution_count": 13,
   "id": "1ad5cdc2",
   "metadata": {},
   "outputs": [],
   "source": [
    "df=pd.read_csv('cleaned.csv')"
   ]
  },
  {
   "cell_type": "code",
   "execution_count": 14,
   "id": "ab285554",
   "metadata": {},
   "outputs": [],
   "source": [
    "df.drop(['age','frequency_score','awareness_score','cf_ab_score','zone_score','income_score','zas_score','bsi'],inplace=True,axis=1)"
   ]
  },
  {
   "cell_type": "code",
   "execution_count": 15,
   "id": "daf9d7d1",
   "metadata": {},
   "outputs": [
    {
     "data": {
      "text/html": [
       "<div>\n",
       "<style scoped>\n",
       "    .dataframe tbody tr th:only-of-type {\n",
       "        vertical-align: middle;\n",
       "    }\n",
       "\n",
       "    .dataframe tbody tr th {\n",
       "        vertical-align: top;\n",
       "    }\n",
       "\n",
       "    .dataframe thead th {\n",
       "        text-align: right;\n",
       "    }\n",
       "</style>\n",
       "<table border=\"1\" class=\"dataframe\">\n",
       "  <thead>\n",
       "    <tr style=\"text-align: right;\">\n",
       "      <th></th>\n",
       "      <th>respondent_id</th>\n",
       "      <th>gender</th>\n",
       "      <th>zone</th>\n",
       "      <th>occupation</th>\n",
       "      <th>income_levels</th>\n",
       "      <th>consume_frequency(weekly)</th>\n",
       "      <th>current_brand</th>\n",
       "      <th>preferable_consumption_size</th>\n",
       "      <th>awareness_of_other_brands</th>\n",
       "      <th>reasons_for_choosing_brands</th>\n",
       "      <th>flavor_preference</th>\n",
       "      <th>purchase_channel</th>\n",
       "      <th>packaging_preference</th>\n",
       "      <th>health_concerns</th>\n",
       "      <th>typical_consumption_situations</th>\n",
       "      <th>price_range</th>\n",
       "      <th>age_group</th>\n",
       "    </tr>\n",
       "  </thead>\n",
       "  <tbody>\n",
       "    <tr>\n",
       "      <th>0</th>\n",
       "      <td>R00001</td>\n",
       "      <td>M</td>\n",
       "      <td>Urban</td>\n",
       "      <td>Working Professional</td>\n",
       "      <td>&lt;10L</td>\n",
       "      <td>3-4 times</td>\n",
       "      <td>Newcomer</td>\n",
       "      <td>Medium (500 ml)</td>\n",
       "      <td>0 to 1</td>\n",
       "      <td>Price</td>\n",
       "      <td>Traditional</td>\n",
       "      <td>Online</td>\n",
       "      <td>Simple</td>\n",
       "      <td>Medium (Moderately health-conscious)</td>\n",
       "      <td>Active (eg. Sports, gym)</td>\n",
       "      <td>100-150</td>\n",
       "      <td>26-35</td>\n",
       "    </tr>\n",
       "    <tr>\n",
       "      <th>1</th>\n",
       "      <td>R00002</td>\n",
       "      <td>F</td>\n",
       "      <td>Metro</td>\n",
       "      <td>Working Professional</td>\n",
       "      <td>&gt; 35L</td>\n",
       "      <td>5-7 times</td>\n",
       "      <td>Established</td>\n",
       "      <td>Medium (500 ml)</td>\n",
       "      <td>2 to 4</td>\n",
       "      <td>Quality</td>\n",
       "      <td>Exotic</td>\n",
       "      <td>Retail Store</td>\n",
       "      <td>Premium</td>\n",
       "      <td>Medium (Moderately health-conscious)</td>\n",
       "      <td>Social (eg. Parties)</td>\n",
       "      <td>200-250</td>\n",
       "      <td>46-55</td>\n",
       "    </tr>\n",
       "    <tr>\n",
       "      <th>2</th>\n",
       "      <td>R00003</td>\n",
       "      <td>F</td>\n",
       "      <td>Rural</td>\n",
       "      <td>Working Professional</td>\n",
       "      <td>&gt; 35L</td>\n",
       "      <td>3-4 times</td>\n",
       "      <td>Newcomer</td>\n",
       "      <td>Medium (500 ml)</td>\n",
       "      <td>2 to 4</td>\n",
       "      <td>Availability</td>\n",
       "      <td>Traditional</td>\n",
       "      <td>Retail Store</td>\n",
       "      <td>Premium</td>\n",
       "      <td>Medium (Moderately health-conscious)</td>\n",
       "      <td>Active (eg. Sports, gym)</td>\n",
       "      <td>200-250</td>\n",
       "      <td>36-45</td>\n",
       "    </tr>\n",
       "    <tr>\n",
       "      <th>3</th>\n",
       "      <td>R00004</td>\n",
       "      <td>F</td>\n",
       "      <td>Urban</td>\n",
       "      <td>Working Professional</td>\n",
       "      <td>16L - 25L</td>\n",
       "      <td>5-7 times</td>\n",
       "      <td>Newcomer</td>\n",
       "      <td>Medium (500 ml)</td>\n",
       "      <td>0 to 1</td>\n",
       "      <td>Brand Reputation</td>\n",
       "      <td>Exotic</td>\n",
       "      <td>Online</td>\n",
       "      <td>Eco-Friendly</td>\n",
       "      <td>Low (Not very concerned)</td>\n",
       "      <td>Active (eg. Sports, gym)</td>\n",
       "      <td>150-200</td>\n",
       "      <td>26-35</td>\n",
       "    </tr>\n",
       "    <tr>\n",
       "      <th>4</th>\n",
       "      <td>R00005</td>\n",
       "      <td>M</td>\n",
       "      <td>Metro</td>\n",
       "      <td>Student</td>\n",
       "      <td>Not Reported</td>\n",
       "      <td>3-4 times</td>\n",
       "      <td>Established</td>\n",
       "      <td>Medium (500 ml)</td>\n",
       "      <td>0 to 1</td>\n",
       "      <td>Availability</td>\n",
       "      <td>Traditional</td>\n",
       "      <td>Online</td>\n",
       "      <td>Premium</td>\n",
       "      <td>Medium (Moderately health-conscious)</td>\n",
       "      <td>Active (eg. Sports, gym)</td>\n",
       "      <td>50-100</td>\n",
       "      <td>18-25</td>\n",
       "    </tr>\n",
       "  </tbody>\n",
       "</table>\n",
       "</div>"
      ],
      "text/plain": [
       "  respondent_id gender   zone            occupation income_levels  \\\n",
       "0        R00001      M  Urban  Working Professional          <10L   \n",
       "1        R00002      F  Metro  Working Professional         > 35L   \n",
       "2        R00003      F  Rural  Working Professional         > 35L   \n",
       "3        R00004      F  Urban  Working Professional     16L - 25L   \n",
       "4        R00005      M  Metro               Student  Not Reported   \n",
       "\n",
       "  consume_frequency(weekly) current_brand preferable_consumption_size  \\\n",
       "0                 3-4 times      Newcomer             Medium (500 ml)   \n",
       "1                 5-7 times   Established             Medium (500 ml)   \n",
       "2                 3-4 times      Newcomer             Medium (500 ml)   \n",
       "3                 5-7 times      Newcomer             Medium (500 ml)   \n",
       "4                 3-4 times   Established             Medium (500 ml)   \n",
       "\n",
       "  awareness_of_other_brands reasons_for_choosing_brands flavor_preference  \\\n",
       "0                    0 to 1                       Price       Traditional   \n",
       "1                    2 to 4                     Quality            Exotic   \n",
       "2                    2 to 4                Availability       Traditional   \n",
       "3                    0 to 1            Brand Reputation            Exotic   \n",
       "4                    0 to 1                Availability       Traditional   \n",
       "\n",
       "  purchase_channel packaging_preference                       health_concerns  \\\n",
       "0           Online               Simple  Medium (Moderately health-conscious)   \n",
       "1     Retail Store              Premium  Medium (Moderately health-conscious)   \n",
       "2     Retail Store              Premium  Medium (Moderately health-conscious)   \n",
       "3           Online         Eco-Friendly              Low (Not very concerned)   \n",
       "4           Online              Premium  Medium (Moderately health-conscious)   \n",
       "\n",
       "  typical_consumption_situations price_range age_group  \n",
       "0       Active (eg. Sports, gym)     100-150     26-35  \n",
       "1           Social (eg. Parties)     200-250     46-55  \n",
       "2       Active (eg. Sports, gym)     200-250     36-45  \n",
       "3       Active (eg. Sports, gym)     150-200     26-35  \n",
       "4       Active (eg. Sports, gym)      50-100     18-25  "
      ]
     },
     "execution_count": 15,
     "metadata": {},
     "output_type": "execute_result"
    }
   ],
   "source": [
    "df.head()"
   ]
  },
  {
   "cell_type": "code",
   "execution_count": 5,
   "id": "77d01031",
   "metadata": {},
   "outputs": [],
   "source": [
    "from sklearn.model_selection import train_test_split\n",
    "from sklearn.preprocessing import LabelEncoder, OrdinalEncoder, OneHotEncoder\n",
    "from sklearn.compose import ColumnTransformer\n",
    "from sklearn.naive_bayes import GaussianNB\n",
    "from sklearn.linear_model import LogisticRegression\n",
    "from sklearn.svm import SVC\n",
    "from sklearn.ensemble import RandomForestClassifier\n",
    "from xgboost import XGBClassifier\n",
    "from lightgbm import LGBMClassifier\n",
    "from sklearn.metrics import accuracy_score, classification_report"
   ]
  },
  {
   "cell_type": "code",
   "execution_count": 16,
   "id": "835867fe",
   "metadata": {},
   "outputs": [],
   "source": [
    "# Define target variable\n",
    "y = df['price_range']\n",
    "\n",
    "# Define feature matrix X (excluding 'respondent_id' and the target 'price_range')\n",
    "X = df.drop(columns=['respondent_id', 'price_range'])"
   ]
  },
  {
   "cell_type": "code",
   "execution_count": 17,
   "id": "7a6ffeb4",
   "metadata": {},
   "outputs": [
    {
     "name": "stdout",
     "output_type": "stream",
     "text": [
      "Shape of X (features): (29956, 15)\n",
      "Shape of y (target): (29956,)\n"
     ]
    }
   ],
   "source": [
    "print(f\"Shape of X (features): {X.shape}\")\n",
    "print(f\"Shape of y (target): {y.shape}\")"
   ]
  },
  {
   "cell_type": "code",
   "execution_count": 18,
   "id": "c9840a5f",
   "metadata": {},
   "outputs": [],
   "source": [
    "le_y = LabelEncoder()\n",
    "y_encoded = le_y.fit_transform(y)\n"
   ]
  },
  {
   "cell_type": "code",
   "execution_count": 19,
   "id": "0087f2d9",
   "metadata": {},
   "outputs": [],
   "source": [
    "label_encode_cols = [\n",
    "    'age_group',\n",
    "    'income_levels',\n",
    "    'health_concerns',\n",
    "    'consume_frequency(weekly)',\n",
    "    'preferable_consumption_size'\n",
    "]"
   ]
  },
  {
   "cell_type": "code",
   "execution_count": 20,
   "id": "3f3899db",
   "metadata": {},
   "outputs": [],
   "source": [
    "# Identify all categorical columns\n",
    "categorical_cols = X.select_dtypes(include=['object', 'category']).columns.tolist()\n",
    "\n",
    "# Remaining categorical columns for One-Hot Encoding\n",
    "one_hot_encode_cols = [col for col in categorical_cols if col not in label_encode_cols]"
   ]
  },
  {
   "cell_type": "code",
   "execution_count": 11,
   "id": "4778fb0d",
   "metadata": {},
   "outputs": [
    {
     "data": {
      "text/plain": [
       "['gender',\n",
       " 'zone',\n",
       " 'occupation',\n",
       " 'current_brand',\n",
       " 'awareness_of_other_brands',\n",
       " 'reasons_for_choosing_brands',\n",
       " 'flavor_preference',\n",
       " 'purchase_channel',\n",
       " 'packaging_preference',\n",
       " 'typical_consumption_situations']"
      ]
     },
     "execution_count": 11,
     "metadata": {},
     "output_type": "execute_result"
    }
   ],
   "source": [
    "one_hot_encode_cols"
   ]
  },
  {
   "cell_type": "code",
   "execution_count": 21,
   "id": "f4f63683",
   "metadata": {},
   "outputs": [
    {
     "data": {
      "text/plain": [
       "[]"
      ]
     },
     "execution_count": 21,
     "metadata": {},
     "output_type": "execute_result"
    }
   ],
   "source": [
    "numerical_cols = X.select_dtypes(include=['int64', 'float64']).columns.tolist()\n",
    "numerical_cols"
   ]
  },
  {
   "cell_type": "code",
   "execution_count": 30,
   "id": "8c5c90c0",
   "metadata": {},
   "outputs": [],
   "source": [
    "X_train, X_test, y_train, y_test = train_test_split(\n",
    "    X, y_encoded, test_size=0.25, random_state=42\n",
    ")"
   ]
  },
  {
   "cell_type": "code",
   "execution_count": 31,
   "id": "f55b9b01",
   "metadata": {},
   "outputs": [],
   "source": [
    "preprocessor = ColumnTransformer(\n",
    "    transformers=[\n",
    "        # OrdinalEncoder for columns specified for Label Encoding\n",
    "        ('ordinal', OrdinalEncoder(handle_unknown='use_encoded_value', unknown_value=-1), label_encode_cols),\n",
    "        # OneHotEncoder for all remaining categorical columns\n",
    "        ('onehot', OneHotEncoder(handle_unknown='ignore'), one_hot_encode_cols),\n",
    "        # Pass through numerical columns without transformation\n",
    "        ('passthrough', 'passthrough', numerical_cols)\n",
    "    ],\n",
    "    remainder='drop' # Drop any columns not specified in transformers\n",
    ")"
   ]
  },
  {
   "cell_type": "code",
   "execution_count": 32,
   "id": "40399627",
   "metadata": {},
   "outputs": [],
   "source": [
    "X_train_encoded = preprocessor.fit_transform(X_train)\n",
    "X_test_encoded = preprocessor.transform(X_test)"
   ]
  },
  {
   "cell_type": "code",
   "execution_count": 33,
   "id": "3f9edd4d",
   "metadata": {},
   "outputs": [
    {
     "name": "stdout",
     "output_type": "stream",
     "text": [
      "Shape of encoded X_train: (22467, 34)\n",
      "Shape of encoded X_test: (7489, 34)\n"
     ]
    }
   ],
   "source": [
    "print(f\"Shape of encoded X_train: {X_train_encoded.shape}\")\n",
    "print(f\"Shape of encoded X_test: {X_test_encoded.shape}\")"
   ]
  },
  {
   "cell_type": "code",
   "execution_count": 34,
   "id": "a0a83f62",
   "metadata": {},
   "outputs": [],
   "source": [
    "models = {\n",
    "    \"Gaussian Naive Bayes\": GaussianNB(),\n",
    "    \"Logistic Regression\": LogisticRegression(random_state=42, max_iter=2000), # Increased max_iter for robustness\n",
    "    \"Support Vector Machine (SVM)\": SVC(random_state=42),\n",
    "    \"Random Forest\": RandomForestClassifier(random_state=42),\n",
    "    \"XGBoost\": XGBClassifier(use_label_encoder=False, eval_metric='mlogloss', random_state=42), # Suppress warnings\n",
    "    \"Light Gradient Boosting Machine (Light GBM)\": LGBMClassifier(random_state=42)\n",
    "}"
   ]
  },
  {
   "cell_type": "code",
   "execution_count": 35,
   "id": "a8395c57",
   "metadata": {},
   "outputs": [],
   "source": [
    "model_performance = {}"
   ]
  },
  {
   "cell_type": "code",
   "execution_count": 36,
   "id": "cd646f2f",
   "metadata": {},
   "outputs": [
    {
     "name": "stdout",
     "output_type": "stream",
     "text": [
      "\n",
      "--- Training and Evaluating: Gaussian Naive Bayes ---\n",
      "Accuracy for Gaussian Naive Bayes: 0.5421\n",
      "Classification Report for Gaussian Naive Bayes:\n",
      "              precision    recall  f1-score   support\n",
      "\n",
      "     100-150       0.46      0.24      0.31      1930\n",
      "     150-200       0.57      0.25      0.35      2223\n",
      "     200-250       0.64      0.90      0.75      2430\n",
      "      50-100       0.41      0.95      0.57       906\n",
      "\n",
      "    accuracy                           0.54      7489\n",
      "   macro avg       0.52      0.58      0.49      7489\n",
      "weighted avg       0.55      0.54      0.50      7489\n",
      "\n",
      "\n",
      "--- Training and Evaluating: Logistic Regression ---\n",
      "Accuracy for Logistic Regression: 0.7611\n",
      "Classification Report for Logistic Regression:\n",
      "              precision    recall  f1-score   support\n",
      "\n",
      "     100-150       0.72      0.73      0.72      1930\n",
      "     150-200       0.69      0.71      0.70      2223\n",
      "     200-250       0.86      0.85      0.85      2430\n",
      "      50-100       0.78      0.74      0.76       906\n",
      "\n",
      "    accuracy                           0.76      7489\n",
      "   macro avg       0.76      0.75      0.76      7489\n",
      "weighted avg       0.76      0.76      0.76      7489\n",
      "\n",
      "\n",
      "--- Training and Evaluating: Support Vector Machine (SVM) ---\n",
      "Accuracy for Support Vector Machine (SVM): 0.8418\n",
      "Classification Report for Support Vector Machine (SVM):\n",
      "              precision    recall  f1-score   support\n",
      "\n",
      "     100-150       0.80      0.84      0.82      1930\n",
      "     150-200       0.80      0.81      0.80      2223\n",
      "     200-250       0.91      0.89      0.90      2430\n",
      "      50-100       0.86      0.80      0.83       906\n",
      "\n",
      "    accuracy                           0.84      7489\n",
      "   macro avg       0.84      0.83      0.84      7489\n",
      "weighted avg       0.84      0.84      0.84      7489\n",
      "\n",
      "\n",
      "--- Training and Evaluating: Random Forest ---\n",
      "Accuracy for Random Forest: 0.8614\n",
      "Classification Report for Random Forest:\n",
      "              precision    recall  f1-score   support\n",
      "\n",
      "     100-150       0.85      0.83      0.84      1930\n",
      "     150-200       0.80      0.85      0.82      2223\n",
      "     200-250       0.92      0.91      0.91      2430\n",
      "      50-100       0.92      0.85      0.88       906\n",
      "\n",
      "    accuracy                           0.86      7489\n",
      "   macro avg       0.87      0.86      0.86      7489\n",
      "weighted avg       0.86      0.86      0.86      7489\n",
      "\n",
      "\n",
      "--- Training and Evaluating: XGBoost ---\n"
     ]
    },
    {
     "name": "stderr",
     "output_type": "stream",
     "text": [
      "c:\\Users\\Vinay S\\anaconda3\\envs\\nnenv\\lib\\site-packages\\xgboost\\core.py:158: UserWarning: [18:07:55] WARNING: C:\\buildkite-agent\\builds\\buildkite-windows-cpu-autoscaling-group-i-08cbc0333d8d4aae1-1\\xgboost\\xgboost-ci-windows\\src\\learner.cc:740: \n",
      "Parameters: { \"use_label_encoder\" } are not used.\n",
      "\n",
      "  warnings.warn(smsg, UserWarning)\n"
     ]
    },
    {
     "name": "stdout",
     "output_type": "stream",
     "text": [
      "Accuracy for XGBoost: 0.9167\n",
      "Classification Report for XGBoost:\n",
      "              precision    recall  f1-score   support\n",
      "\n",
      "     100-150       0.91      0.90      0.90      1930\n",
      "     150-200       0.88      0.91      0.90      2223\n",
      "     200-250       0.96      0.94      0.95      2430\n",
      "      50-100       0.92      0.91      0.91       906\n",
      "\n",
      "    accuracy                           0.92      7489\n",
      "   macro avg       0.92      0.91      0.92      7489\n",
      "weighted avg       0.92      0.92      0.92      7489\n",
      "\n",
      "\n",
      "--- Training and Evaluating: Light Gradient Boosting Machine (Light GBM) ---\n",
      "[LightGBM] [Info] Auto-choosing row-wise multi-threading, the overhead of testing was 0.000530 seconds.\n",
      "You can set `force_row_wise=true` to remove the overhead.\n",
      "And if memory is not enough, you can set `force_col_wise=true`.\n",
      "[LightGBM] [Info] Total Bins 78\n",
      "[LightGBM] [Info] Number of data points in the train set: 22467, number of used features: 34\n",
      "[LightGBM] [Info] Start training from score -1.343386\n",
      "[LightGBM] [Info] Start training from score -1.228925\n",
      "[LightGBM] [Info] Start training from score -1.126779\n",
      "[LightGBM] [Info] Start training from score -2.100810\n",
      "Accuracy for Light Gradient Boosting Machine (Light GBM): 0.9164\n",
      "Classification Report for Light Gradient Boosting Machine (Light GBM):\n",
      "              precision    recall  f1-score   support\n",
      "\n",
      "     100-150       0.90      0.89      0.90      1930\n",
      "     150-200       0.88      0.91      0.89      2223\n",
      "     200-250       0.96      0.94      0.95      2430\n",
      "      50-100       0.93      0.90      0.92       906\n",
      "\n",
      "    accuracy                           0.92      7489\n",
      "   macro avg       0.92      0.91      0.92      7489\n",
      "weighted avg       0.92      0.92      0.92      7489\n",
      "\n"
     ]
    },
    {
     "name": "stderr",
     "output_type": "stream",
     "text": [
      "c:\\Users\\Vinay S\\anaconda3\\envs\\nnenv\\lib\\site-packages\\sklearn\\utils\\validation.py:2739: UserWarning: X does not have valid feature names, but LGBMClassifier was fitted with feature names\n",
      "  warnings.warn(\n"
     ]
    }
   ],
   "source": [
    "for name, model in models.items():\n",
    "    print(f\"\\n--- Training and Evaluating: {name} ---\")\n",
    "    try:\n",
    "        # Train the model\n",
    "        model.fit(X_train_encoded, y_train)\n",
    "\n",
    "        # Make predictions on the test set\n",
    "        y_pred = model.predict(X_test_encoded)\n",
    "\n",
    "        # Calculate and store performance metrics\n",
    "        accuracy = accuracy_score(y_test, y_pred)\n",
    "        report = classification_report(y_test, y_pred, target_names=le_y.classes_)\n",
    "\n",
    "        model_performance[name] = {\n",
    "            \"Accuracy\": accuracy,\n",
    "            \"Classification Report\": report\n",
    "        }\n",
    "\n",
    "        # Print performance metrics\n",
    "        print(f\"Accuracy for {name}: {accuracy:.4f}\")\n",
    "        print(f\"Classification Report for {name}:\\n{report}\")\n",
    "    except Exception as e:\n",
    "        print(f\"An error occurred during training/evaluation of {name}: {e}\")\n",
    "        model_performance[name] = {\"Accuracy\": 0, \"Classification Report\": f\"Error: {e}\"}"
   ]
  },
  {
   "cell_type": "code",
   "execution_count": 37,
   "id": "e8d2cb07",
   "metadata": {},
   "outputs": [
    {
     "data": {
      "text/plain": [
       "{'Gaussian Naive Bayes': {'Accuracy': 0.5421284550674322,\n",
       "  'Classification Report': '              precision    recall  f1-score   support\\n\\n     100-150       0.46      0.24      0.31      1930\\n     150-200       0.57      0.25      0.35      2223\\n     200-250       0.64      0.90      0.75      2430\\n      50-100       0.41      0.95      0.57       906\\n\\n    accuracy                           0.54      7489\\n   macro avg       0.52      0.58      0.49      7489\\nweighted avg       0.55      0.54      0.50      7489\\n'},\n",
       " 'Logistic Regression': {'Accuracy': 0.7611163039124048,\n",
       "  'Classification Report': '              precision    recall  f1-score   support\\n\\n     100-150       0.72      0.73      0.72      1930\\n     150-200       0.69      0.71      0.70      2223\\n     200-250       0.86      0.85      0.85      2430\\n      50-100       0.78      0.74      0.76       906\\n\\n    accuracy                           0.76      7489\\n   macro avg       0.76      0.75      0.76      7489\\nweighted avg       0.76      0.76      0.76      7489\\n'},\n",
       " 'Support Vector Machine (SVM)': {'Accuracy': 0.8417679262918948,\n",
       "  'Classification Report': '              precision    recall  f1-score   support\\n\\n     100-150       0.80      0.84      0.82      1930\\n     150-200       0.80      0.81      0.80      2223\\n     200-250       0.91      0.89      0.90      2430\\n      50-100       0.86      0.80      0.83       906\\n\\n    accuracy                           0.84      7489\\n   macro avg       0.84      0.83      0.84      7489\\nweighted avg       0.84      0.84      0.84      7489\\n'},\n",
       " 'Random Forest': {'Accuracy': 0.8613967151822673,\n",
       "  'Classification Report': '              precision    recall  f1-score   support\\n\\n     100-150       0.85      0.83      0.84      1930\\n     150-200       0.80      0.85      0.82      2223\\n     200-250       0.92      0.91      0.91      2430\\n      50-100       0.92      0.85      0.88       906\\n\\n    accuracy                           0.86      7489\\n   macro avg       0.87      0.86      0.86      7489\\nweighted avg       0.86      0.86      0.86      7489\\n'},\n",
       " 'XGBoost': {'Accuracy': 0.9166777940980104,\n",
       "  'Classification Report': '              precision    recall  f1-score   support\\n\\n     100-150       0.91      0.90      0.90      1930\\n     150-200       0.88      0.91      0.90      2223\\n     200-250       0.96      0.94      0.95      2430\\n      50-100       0.92      0.91      0.91       906\\n\\n    accuracy                           0.92      7489\\n   macro avg       0.92      0.91      0.92      7489\\nweighted avg       0.92      0.92      0.92      7489\\n'},\n",
       " 'Light Gradient Boosting Machine (Light GBM)': {'Accuracy': 0.9164107357457605,\n",
       "  'Classification Report': '              precision    recall  f1-score   support\\n\\n     100-150       0.90      0.89      0.90      1930\\n     150-200       0.88      0.91      0.89      2223\\n     200-250       0.96      0.94      0.95      2430\\n      50-100       0.93      0.90      0.92       906\\n\\n    accuracy                           0.92      7489\\n   macro avg       0.92      0.91      0.92      7489\\nweighted avg       0.92      0.92      0.92      7489\\n'}}"
      ]
     },
     "execution_count": 37,
     "metadata": {},
     "output_type": "execute_result"
    }
   ],
   "source": [
    "model_performance"
   ]
  },
  {
   "cell_type": "code",
   "execution_count": 39,
   "id": "00b31787",
   "metadata": {},
   "outputs": [],
   "source": [
    "best_model_name = \"\"\n",
    "best_accuracy = -1.0"
   ]
  },
  {
   "cell_type": "code",
   "execution_count": 40,
   "id": "4bfeff7b",
   "metadata": {},
   "outputs": [
    {
     "name": "stdout",
     "output_type": "stream",
     "text": [
      "\n",
      "Model: Gaussian Naive Bayes\n",
      "  Accuracy: 0.5421\n",
      "\n",
      "Model: Logistic Regression\n",
      "  Accuracy: 0.7611\n",
      "\n",
      "Model: Support Vector Machine (SVM)\n",
      "  Accuracy: 0.8418\n",
      "\n",
      "Model: Random Forest\n",
      "  Accuracy: 0.8614\n",
      "\n",
      "Model: XGBoost\n",
      "  Accuracy: 0.9167\n",
      "\n",
      "Model: Light Gradient Boosting Machine (Light GBM)\n",
      "  Accuracy: 0.9164\n",
      "\n",
      "Best Performing Model: XGBoost with an Accuracy of 0.9167\n"
     ]
    }
   ],
   "source": [
    "# Iterate through the stored performance to find the best model\n",
    "for name, metrics in model_performance.items():\n",
    "    print(f\"\\nModel: {name}\")\n",
    "    print(f\"  Accuracy: {metrics['Accuracy']:.4f}\")\n",
    "    # The full classification report is already printed above for each model.\n",
    "\n",
    "    if metrics['Accuracy'] > best_accuracy:\n",
    "        best_accuracy = metrics['Accuracy']\n",
    "        best_model_name = name\n",
    "\n",
    "print(f\"\\nBest Performing Model: {best_model_name} with an Accuracy of {best_accuracy:.4f}\")"
   ]
  },
  {
   "cell_type": "markdown",
   "id": "d4edbc44",
   "metadata": {},
   "source": [
    "### dagshub\n"
   ]
  },
  {
   "cell_type": "code",
   "execution_count": 44,
   "id": "e6263cf3",
   "metadata": {},
   "outputs": [],
   "source": [
    "import mlflow\n",
    "import mlflow.sklearn\n",
    "import mlflow.xgboost\n",
    "import mlflow.lightgbm"
   ]
  },
  {
   "cell_type": "code",
   "execution_count": null,
   "id": "818a2709",
   "metadata": {},
   "outputs": [],
   "source": [
    "# dagshub setup\n",
    "\n",
    "import dagshub\n",
    "dagshub.init(repo_owner='learnpythonlanguage', repo_name='mlflow_dagshub_demo', mlflow=True)"
   ]
  },
  {
   "cell_type": "code",
   "execution_count": 47,
   "id": "30a12948",
   "metadata": {},
   "outputs": [],
   "source": [
    "import dagshub"
   ]
  },
  {
   "cell_type": "code",
   "execution_count": null,
   "id": "ec65bd44",
   "metadata": {},
   "outputs": [],
   "source": []
  }
 ],
 "metadata": {
  "kernelspec": {
   "display_name": "nnenv",
   "language": "python",
   "name": "python3"
  },
  "language_info": {
   "codemirror_mode": {
    "name": "ipython",
    "version": 3
   },
   "file_extension": ".py",
   "mimetype": "text/x-python",
   "name": "python",
   "nbconvert_exporter": "python",
   "pygments_lexer": "ipython3",
   "version": "3.9.21"
  }
 },
 "nbformat": 4,
 "nbformat_minor": 5
}
